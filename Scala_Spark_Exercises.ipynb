﻿{
  "metadata": {
    "name": "Scala_Spark_Exercises",
    "kernelspec": {
      "language": "scala",
      "name": "spark2-scala"
    },
    "language_info": {
      "codemirror_mode": "text/x-scala",
      "file_extension": ".scala",
      "mimetype": "text/x-scala",
      "name": "scala",
      "pygments_lexer": "scala"
    }
  },
  "nbformat": 4,
  "nbformat_minor": 2,
  "cells": [
    {
      "cell_type": "code",
      "execution_count": 0,
      "metadata": {
        "autoscroll": "auto"
      },
      "outputs": [],
      "source": "val dept \u003d Seq(\n  (\"50000.0#0#0#\", \"#\"),\n  (\"0@1000.0@\", \"@\"),\n  (\"1$\", \"$\"),\n  (\"1000.00^Test_string\", \"^\")).toDF(\"VALUES\", \"Delimiter\")"
    },
    {
      "cell_type": "code",
      "execution_count": 1,
      "metadata": {
        "autoscroll": "auto"
      },
      "outputs": [],
      "source": "dept.show"
    },
    {
      "cell_type": "code",
      "execution_count": 2,
      "metadata": {
        "autoscroll": "auto"
      },
      "outputs": [],
      "source": "val split_udf \u003d udf((v: String, d: String) \u003d\u003e v.split(\u0027\\\\\u0027 + d))\ndept.withColumn(\"split_values\", split_udf($\"VALUES\", $\"Delimiter\")).show(truncate \u003d false)"
    },
    {
      "cell_type": "code",
      "execution_count": 3,
      "metadata": {
        "autoscroll": "auto"
      },
      "outputs": [],
      "source": "val input \u003d Seq(\n  (1, \"MV1\"),\n  (1, \"MV2\"),\n  (2, \"VPV\"),\n  (2, \"Others\")).toDF(\"id\", \"value\")\ninput.show"
    },
    {
      "cell_type": "code",
      "execution_count": 4,
      "metadata": {
        "autoscroll": "auto"
      },
      "outputs": [],
      "source": "val priorities \u003d Seq(\"MV1\", \"MV2\", \"VPV\", \"Others\").zipWithIndex.toDF(\"name\", \"prvalue\")"
    },
    {
      "cell_type": "code",
      "execution_count": 5,
      "metadata": {
        "autoscroll": "auto"
      },
      "outputs": [],
      "source": "val result \u003d input\n    .join(priorities)\n    .where($\"name\" \u003d\u003d\u003d $\"value\")\n    .groupBy(\"id\")\n    .agg(min(\"prvalue\"))"
    },
    {
      "cell_type": "code",
      "execution_count": 6,
      "metadata": {
        "autoscroll": "auto"
      },
      "outputs": [],
      "source": "result\n    .join(priorities)\n    .where($\"min(prvalue)\" \u003d\u003d\u003d $\"prvalue\")\n    .select(\"id\", \"name\")\n    .show()"
    },
    {
      "cell_type": "code",
      "execution_count": 7,
      "metadata": {
        "autoscroll": "auto"
      },
      "outputs": [],
      "source": "val input \u003d Seq(\n  (\"05:49:56.604899\", \"10.0.0.2.54880\", \"10.0.0.3.5001\",  2),\n  (\"05:49:56.604900\", \"10.0.0.2.54880\", \"10.0.0.3.5001\",  2),\n  (\"05:49:56.604899\", \"10.0.0.2.54880\", \"10.0.0.3.5001\",  2),\n  (\"05:49:56.604900\", \"10.0.0.2.54880\", \"10.0.0.3.5001\",  2),\n  (\"05:49:56.604899\", \"10.0.0.2.54880\", \"10.0.0.3.5001\",  2),\n  (\"05:49:56.604900\", \"10.0.0.2.54880\", \"10.0.0.3.5001\",  2),\n  (\"05:49:56.604899\", \"10.0.0.2.54880\", \"10.0.0.3.5001\",  2),\n  (\"05:49:56.604900\", \"10.0.0.2.54880\", \"10.0.0.3.5001\",  2),\n  (\"05:49:56.604899\", \"10.0.0.2.54880\", \"10.0.0.3.5001\",  2),\n  (\"05:49:56.604900\", \"10.0.0.2.54880\", \"10.0.0.3.5001\",  2),\n  (\"05:49:56.604899\", \"10.0.0.2.54880\", \"10.0.0.3.5001\",  2),\n  (\"05:49:56.604900\", \"10.0.0.2.54880\", \"10.0.0.3.5001\",  2),\n  (\"05:49:56.604899\", \"10.0.0.2.54880\", \"10.0.0.3.5001\",  2),\n  (\"05:49:56.604908\", \"10.0.0.3.5001\",  \"10.0.0.2.54880\", 2),\n  (\"05:49:56.604908\", \"10.0.0.3.5001\",  \"10.0.0.2.54880\", 2),\n  (\"05:49:56.604908\", \"10.0.0.3.5001\",  \"10.0.0.2.54880\", 2),\n  (\"05:49:56.604908\", \"10.0.0.3.5001\",  \"10.0.0.2.54880\", 2),\n  (\"05:49:56.604908\", \"10.0.0.3.5001\",  \"10.0.0.2.54880\", 2),\n  (\"05:49:56.604908\", \"10.0.0.3.5001\",  \"10.0.0.2.54880\", 2),\n  (\"05:49:56.604908\", \"10.0.0.3.5001\",  \"10.0.0.2.54880\", 2)).toDF(\"column0\", \"column1\", \"column2\", \"label\")"
    },
    {
      "cell_type": "code",
      "execution_count": 8,
      "metadata": {
        "autoscroll": "auto"
      },
      "outputs": [],
      "source": "val tempdf \u003d input\n    .withColumn(\"digit\", lit(1))\n    .groupBy(\"column2\")\n    .agg(sum(\"digit\"))\n    .withColumnRenamed(\"column2\", \"alt_column2\")\ntempdf.show()"
    },
    {
      "cell_type": "code",
      "execution_count": 9,
      "metadata": {
        "autoscroll": "auto"
      },
      "outputs": [],
      "source": "input\n    .join(tempdf)\n    .where($\"column2\" \u003d\u003d\u003d$\"alt_column2\")\n    .select(\"column0\", \"column1\", \"column2\", \"label\", \"sum(digit)\")\n    .withColumnRenamed(\"sum(digit)\", \"count\")\n    .show()"
    },
    {
      "cell_type": "code",
      "execution_count": 10,
      "metadata": {
        "autoscroll": "auto"
      },
      "outputs": [],
      "source": "val input \u003d spark.range(50).withColumn(\"key\", $\"id\" % 5)"
    },
    {
      "cell_type": "code",
      "execution_count": 11,
      "metadata": {
        "autoscroll": "auto"
      },
      "outputs": [],
      "source": "input.show"
    },
    {
      "cell_type": "code",
      "execution_count": 12,
      "metadata": {
        "autoscroll": "auto"
      },
      "outputs": [],
      "source": "import org.apache.spark.sql.functions.slice"
    },
    {
      "cell_type": "code",
      "execution_count": 13,
      "metadata": {
        "autoscroll": "auto"
      },
      "outputs": [],
      "source": "input\n    .groupBy(\"key\")\n    .agg(collect_set(input(\"id\")))\n    .withColumn(\"only_first_three\", slice(col(\"collect_set(id)\"), 1, 3))\n    .show()"
    },
    {
      "cell_type": "code",
      "execution_count": 14,
      "metadata": {
        "autoscroll": "auto"
      },
      "outputs": [],
      "source": "import spark.implicits._\n\ncase class MovieRatings(movieName: String, rating: Double)\ncase class MovieCritics(name: String, movieRatings: Seq[MovieRatings])\nval movies_critics \u003d Seq(\n  MovieCritics(\"Manuel\", Seq(MovieRatings(\"Logan\", 1.5), MovieRatings(\"Zoolander\", 3), MovieRatings(\"John Wick\", 2.5))),\n  MovieCritics(\"John\", Seq(MovieRatings(\"Logan\", 2), MovieRatings(\"Zoolander\", 3.5), MovieRatings(\"John Wick\", 3))))\nval ratings \u003d movies_critics.toDF"
    },
    {
      "cell_type": "code",
      "execution_count": 15,
      "metadata": {
        "autoscroll": "auto"
      },
      "outputs": [],
      "source": "ratings.show(truncate \u003d false)"
    },
    {
      "cell_type": "code",
      "execution_count": 16,
      "metadata": {
        "autoscroll": "auto"
      },
      "outputs": [],
      "source": "val niceDF \u003d ratings\n    .select($\"name\", explode($\"movieRatings\"))\n    .withColumn(\"movie\", col(\"col\")(\"movieName\"))\n    .withColumn(\"rating\", col(\"col\")(\"rating\"))\n    .drop(\"col\")\nniceDF.show()"
    },
    {
      "cell_type": "code",
      "execution_count": 17,
      "metadata": {
        "autoscroll": "auto"
      },
      "outputs": [],
      "source": "val result \u003d niceDF\n    .groupBy(\"name\")\n    .pivot(\"movie\")\n    .sum(\"rating\")\n    .show()"
    }
  ]
}